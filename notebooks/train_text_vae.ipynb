{
  "nbformat": 4,
  "nbformat_minor": 0,
  "metadata": {
    "colab": {
      "provenance": [],
      "machine_shape": "hm",
      "gpuType": "L4"
    },
    "kernelspec": {
      "name": "python3",
      "display_name": "Python 3"
    },
    "language_info": {
      "name": "python"
    },
    "accelerator": "GPU"
  },
  "cells": [
    {
      "cell_type": "markdown",
      "source": [
        "# Setup"
      ],
      "metadata": {
        "id": "M0XZJ56Bdw9b"
      }
    },
    {
      "cell_type": "markdown",
      "source": [
        "## Install Dependencies"
      ],
      "metadata": {
        "id": "xyXpmX25dzbc"
      }
    },
    {
      "cell_type": "code",
      "source": [
        "!git clone 'https://github.com/apehex/tr1cot-torch.git' 'tr1cot'"
      ],
      "metadata": {
        "id": "Unlfj10vieAm"
      },
      "execution_count": null,
      "outputs": []
    },
    {
      "cell_type": "code",
      "source": [
        "!pip install -U accelerate bitsandbytes datasets densecurves diffusers explot ftfy lpips mlable-torch peft taming-transformers tensorboard torchvision transformers # xformers\n",
        "# !pip install /content/tr1cot"
      ],
      "metadata": {
        "id": "ruBWW_qv0MGB"
      },
      "execution_count": null,
      "outputs": []
    },
    {
      "cell_type": "markdown",
      "source": [
        "## Import Dependencies"
      ],
      "metadata": {
        "id": "U-lAQ75rd2HT"
      }
    },
    {
      "cell_type": "code",
      "source": [
        "import math\n",
        "\n",
        "import PIL as pl\n",
        "import numpy as np\n",
        "\n",
        "import torch\n",
        "import diffusers"
      ],
      "metadata": {
        "id": "GDQahtmbtb5w"
      },
      "execution_count": null,
      "outputs": []
    },
    {
      "cell_type": "markdown",
      "source": [
        "# Config"
      ],
      "metadata": {
        "id": "wUp3oaH3tgsp"
      }
    },
    {
      "cell_type": "code",
      "source": [
        "# RANDOM CONFIG ################################################################\n",
        "\n",
        "RANDOM_CONFIG = {\n",
        "    'random_seed': 1337,}"
      ],
      "metadata": {
        "id": "qpFrsRsj9h9V"
      },
      "execution_count": null,
      "outputs": []
    },
    {
      "cell_type": "code",
      "source": [
        "# VERSION CONFIG ###############################################################\n",
        "\n",
        "VERSION_CONFIG = {\n",
        "    'model_name':  'stabilityai/sd-vae-ft-mse',} # 'stable-diffusion-v1-5/stable-diffusion-v1-5',} # 'CompVis/stable-diffusion-v1-4'"
      ],
      "metadata": {
        "id": "YXoKV4RRERNl"
      },
      "execution_count": null,
      "outputs": []
    },
    {
      "cell_type": "code",
      "source": [
        "# MODEL CONFIG #################################################################\n",
        "\n",
        "MODEL_CONFIG = {\n",
        "    'lora_rank': 8,}"
      ],
      "metadata": {
        "id": "qe0E39pJ1NKT"
      },
      "execution_count": null,
      "outputs": []
    },
    {
      "cell_type": "code",
      "source": [
        "# DATA CONFIG ##################################################################\n",
        "\n",
        "DATASET_CONFIG = {\n",
        "    'dataset_name': 'cifar10', # 'apehex/ascii-art-datacompdr-12m', # 'lambdalabs/naruto-blip-captions'\n",
        "    'dataset_config': 'plain_text', # 'default'\n",
        "    'dataset_split': 'train', # 'fixed'\n",
        "    'image_column': 'img', # 'image'\n",
        "    'max_samples': 2 ** 12,}"
      ],
      "metadata": {
        "id": "ozhMvUeS1jdo"
      },
      "execution_count": null,
      "outputs": []
    },
    {
      "cell_type": "code",
      "source": [
        "# PATH CONFIG ##################################################################\n",
        "\n",
        "PATH_CONFIG = {\n",
        "    'cache_dir': '.cache',\n",
        "    'output_dir': 'outputs',\n",
        "    'logging_dir': 'logs',\n",
        "    'project_name': 'vae'}"
      ],
      "metadata": {
        "id": "ZGDIoE8aofX2"
      },
      "execution_count": null,
      "outputs": []
    },
    {
      "cell_type": "code",
      "source": [
        "# CHECKPOINT CONFIG ############################################################\n",
        "\n",
        "CHECKPOINT_CONFIG = {\n",
        "    # 'resume_from': None,\n",
        "    # 'checkpoint_limit': None,\n",
        "    'checkpoint_steps': 128,}"
      ],
      "metadata": {
        "id": "EvhToEYz1UW5"
      },
      "execution_count": null,
      "outputs": []
    },
    {
      "cell_type": "code",
      "source": [
        "# PREPROCESSING CONFIG #########################################################\n",
        "\n",
        "PREPROCESS_CONFIG = {\n",
        "    'image_resolution': 64,\n",
        "    'center_crop': True,\n",
        "    'random_flip': True,\n",
        "    'interpolation_mode': 'lanczos',}"
      ],
      "metadata": {
        "id": "KcOzbJpM1-J-"
      },
      "execution_count": null,
      "outputs": []
    },
    {
      "cell_type": "code",
      "source": [
        "# POSTPROCESSING CONFIG ########################################################\n",
        "\n",
        "POSTPROCESS_CONFIG = {}"
      ],
      "metadata": {
        "id": "ZRL1GUrq2D7t"
      },
      "execution_count": null,
      "outputs": []
    },
    {
      "cell_type": "code",
      "source": [
        "# TRAINING CONFIG ##############################################################\n",
        "\n",
        "ITERATION_CONFIG = {\n",
        "    'batch_dim': 8,\n",
        "    'step_num': 1024,\n",
        "    'epoch_num': 64,}\n",
        "\n",
        "TRAINING_CONFIG = {\n",
        "    'learning_rate': 4.5e-6,\n",
        "    'scale_lr': False,\n",
        "    'lr_scheduler': 'cosine',\n",
        "    'lr_warmup_steps': 128,}\n",
        "\n",
        "OPTIMIZER_CONFIG = {\n",
        "    'adam_beta1': 0.9,\n",
        "    'adam_beta2': 0.999,\n",
        "    'adam_weight_decay': 1e-2,\n",
        "    'adam_epsilon': 1e-8,\n",
        "    'max_grad_norm': 1.0,}\n",
        "\n",
        "LOSS_CONFIG = {\n",
        "    'snr_gamma': 0.0,}\n",
        "\n",
        "GRADIENT_CONFIG = {\n",
        "    'gradient_accumulation_steps': 2,\n",
        "    'gradient_checkpointing': False,}\n",
        "\n",
        "PRECISION_CONFIG = {\n",
        "    'mixed_precision': 'no', # 'bf16', 'fp16', 'no'\n",
        "    'allow_tf32': False,\n",
        "    'use_8bit_adam': False,}\n",
        "\n",
        "DISTRIBUTION_CONFIG = {\n",
        "    # 'local_rank': -1,\n",
        "    'dataloader_num_workers': 0,}\n",
        "\n",
        "FRAMEWORK_CONFIG = {\n",
        "    'enable_xformers': False,}\n",
        "\n",
        "DIFFUSION_CONFIG = {\n",
        "    'prediction_type': 'epsilon',\n",
        "    'noise_offset': 0.0,}"
      ],
      "metadata": {
        "id": "Y0mrcdNE7zwb"
      },
      "execution_count": null,
      "outputs": []
    },
    {
      "cell_type": "code",
      "source": [
        "# TESTING CONFIG ###############################################################\n",
        "\n",
        "TESTING_CONFIG = {\n",
        "    # 'validation_prompts': 4 * '\"A monkey in ASCII art with width 64, braille characters.\" ',\n",
        "    'validation_images': 2 * '\"/content/test.jpg\" ',\n",
        "    'validation_epochs': 2,}"
      ],
      "metadata": {
        "id": "BDBBBQObqvwk"
      },
      "execution_count": null,
      "outputs": []
    },
    {
      "cell_type": "markdown",
      "source": [
        "# Preprocess"
      ],
      "metadata": {
        "id": "bgFyJmmG88HZ"
      }
    },
    {
      "cell_type": "code",
      "source": [
        "# ARGS #########################################################################\n",
        "\n",
        "def format_bool_option(name: str, value: bool) -> str:\n",
        "    return int(value) * f'--{name}'\n",
        "\n",
        "def format_str_option(name: str, value: str) -> str:\n",
        "    return f'--{name}=\\'{value}\\''\n",
        "\n",
        "def format_any_option(name: str, value: any) -> str:\n",
        "    return f'--{name}={value}'\n",
        "\n",
        "def format_option(name: str, value: any) -> str:\n",
        "    __fn = format_any_option\n",
        "    if isinstance(value, bool):\n",
        "        __fn = format_bool_option\n",
        "    if isinstance(value, str):\n",
        "        __fn = format_str_option\n",
        "    return __fn(name=name, value=value)\n",
        "\n",
        "def format_command(prefix: str, options: dict) -> str:\n",
        "    return prefix + ' ' + ' '.join(format_option(name=__k, value=__v) for __k, __v in options.items())"
      ],
      "metadata": {
        "id": "emyY6nrB9r3V"
      },
      "execution_count": null,
      "outputs": []
    },
    {
      "cell_type": "code",
      "source": [
        "# COMMAND ######################################################################\n",
        "\n",
        "COMMAND = format_command(\n",
        "    prefix='accelerate launch /content/tr1cot/scripts/train_text_vae.py',\n",
        "    options={\n",
        "        **RANDOM_CONFIG,\n",
        "        **VERSION_CONFIG,\n",
        "        **MODEL_CONFIG,\n",
        "        **DATASET_CONFIG,\n",
        "        **PATH_CONFIG,\n",
        "        **CHECKPOINT_CONFIG,\n",
        "        **PREPROCESS_CONFIG,\n",
        "        **POSTPROCESS_CONFIG,\n",
        "        **ITERATION_CONFIG,\n",
        "        **TRAINING_CONFIG,\n",
        "        **OPTIMIZER_CONFIG,\n",
        "        **LOSS_CONFIG,\n",
        "        **GRADIENT_CONFIG,\n",
        "        **PRECISION_CONFIG,\n",
        "        **DISTRIBUTION_CONFIG,\n",
        "        **FRAMEWORK_CONFIG,\n",
        "        **DIFFUSION_CONFIG,\n",
        "        **TESTING_CONFIG,})"
      ],
      "metadata": {
        "id": "nsgSEz_e87Bs"
      },
      "execution_count": null,
      "outputs": []
    },
    {
      "cell_type": "markdown",
      "source": [
        "# Train"
      ],
      "metadata": {
        "id": "Nvv7wqB51Ww3"
      }
    },
    {
      "cell_type": "code",
      "source": [
        "# CLEAN ########################################################################\n",
        "\n",
        "!rm -rf $INSTANCE_DIR/.ipynb_checkpoints"
      ],
      "metadata": {
        "id": "n9klEoqS1auK"
      },
      "execution_count": null,
      "outputs": []
    },
    {
      "cell_type": "code",
      "source": [
        "COMMAND"
      ],
      "metadata": {
        "id": "blhQ3x1cN9_n"
      },
      "execution_count": null,
      "outputs": []
    },
    {
      "cell_type": "code",
      "source": [
        "# RUN ##########################################################################\n",
        "\n",
        "!{COMMAND}"
      ],
      "metadata": {
        "id": "Y8nQV53X1buo"
      },
      "execution_count": null,
      "outputs": []
    },
    {
      "cell_type": "markdown",
      "source": [
        "# Generate"
      ],
      "metadata": {
        "id": "gLMog2LP8KHK"
      }
    },
    {
      "cell_type": "code",
      "source": [
        "# POSTPROCESS ##################################################################\n",
        "\n",
        "def restore(data: np.ndarray) -> np.ndarray:\n",
        "    # single channel array\n",
        "    __zeros = np.zeros(tuple(data.shape)[:-1] + (1,), dtype=data.dtype)\n",
        "    # add the leading zero in UTF-32-BE\n",
        "    return np.concat([__zeros, data], axis=-1)\n",
        "\n",
        "def decode(data: np.ndarray) -> str:\n",
        "    # keep the batch and height axes (the output doesn't include newlines)\n",
        "    __shape = tuple(data.shape)[:-2] + (math.prod(data.shape[-2:]),)\n",
        "    # but the width and channel axes are merged into a single sequence\n",
        "    __bytes = data.reshape(__shape)\n",
        "    # interpret as UTF encodings\n",
        "    return np.apply_along_axis(lambda __r: bytes(__r).decode('utf-32-be', errors='replace'), arr=__bytes, axis=-1)"
      ],
      "metadata": {
        "id": "8mvzTgjOGXQ7"
      },
      "execution_count": null,
      "outputs": []
    },
    {
      "cell_type": "code",
      "source": [
        "__rgb = np.asarray(image.resize((64, 64), resample=pl.Image.Resampling.LANCZOS))"
      ],
      "metadata": {
        "id": "1yNP6wN-7xd0"
      },
      "execution_count": null,
      "outputs": []
    },
    {
      "cell_type": "code",
      "source": [
        "__rgb"
      ],
      "metadata": {
        "id": "0ENOS6RdBlv-"
      },
      "execution_count": null,
      "outputs": []
    },
    {
      "cell_type": "code",
      "source": [
        "decode(restore(__rgb))"
      ],
      "metadata": {
        "id": "LPGKgdFu8Mky"
      },
      "execution_count": null,
      "outputs": []
    },
    {
      "cell_type": "code",
      "source": [],
      "metadata": {
        "id": "s2qI3YGljwza"
      },
      "execution_count": null,
      "outputs": []
    }
  ]
}